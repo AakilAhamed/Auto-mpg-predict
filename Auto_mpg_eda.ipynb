{
  "nbformat": 4,
  "nbformat_minor": 0,
  "metadata": {
    "colab": {
      "provenance": [],
      "private_outputs": true,
      "authorship_tag": "ABX9TyMt08l+UAS/ixHb6RCmVTLE"
    },
    "kernelspec": {
      "name": "python3",
      "display_name": "Python 3"
    },
    "language_info": {
      "name": "python"
    }
  },
  "cells": [
    {
      "source": [
        "from google.colab import files\n",
        "files.upload()"
      ],
      "cell_type": "code",
      "metadata": {
        "id": "Ql9yagbhqhk6"
      },
      "execution_count": null,
      "outputs": []
    },
    {
      "source": [
        "!pip install kaggle==1.5.12"
      ],
      "cell_type": "code",
      "metadata": {
        "id": "wKM9BH8jq3-m"
      },
      "execution_count": null,
      "outputs": []
    },
    {
      "source": [
        "!mkdir ~/.kaggle"
      ],
      "cell_type": "code",
      "metadata": {
        "id": "Hr_rAWkkrJu6"
      },
      "execution_count": null,
      "outputs": []
    },
    {
      "cell_type": "code",
      "source": [
        "!cp kaggle.json ~/.kaggle/\n"
      ],
      "metadata": {
        "id": "siWgFFZYrn1p"
      },
      "execution_count": null,
      "outputs": []
    },
    {
      "cell_type": "code",
      "source": [
        "!chmod 600 ~/.kaggle/kaggle.json"
      ],
      "metadata": {
        "id": "pdWbykOJrzGg"
      },
      "execution_count": null,
      "outputs": []
    },
    {
      "source": [
        "!kaggle datasets download uciml/autompg-dataset\n"
      ],
      "cell_type": "code",
      "metadata": {
        "id": "SF4Z8uNmr35Q"
      },
      "execution_count": null,
      "outputs": []
    },
    {
      "cell_type": "code",
      "source": [
        "!unzip autompg-dataset.zip\n"
      ],
      "metadata": {
        "id": "dNxN1KyCs7Cf"
      },
      "execution_count": null,
      "outputs": []
    },
    {
      "cell_type": "markdown",
      "source": [
        "Exploratory Data Analysis on UCI Auto-mpg dataset"
      ],
      "metadata": {
        "id": "qEBChQdMt82T"
      }
    },
    {
      "cell_type": "markdown",
      "source": [
        "initial inspection on dataset"
      ],
      "metadata": {
        "id": "LE5XtuU_wau0"
      }
    },
    {
      "cell_type": "code",
      "source": [
        "import pandas as pd\n",
        "import numpy as np\n",
        "import seaborn as sns\n",
        "import matplotlib.pyplot as plt\n",
        "data = pd.read_csv('auto-mpg.csv')\n",
        "data.head()"
      ],
      "metadata": {
        "id": "CfJqAT23uadV"
      },
      "execution_count": null,
      "outputs": []
    },
    {
      "cell_type": "code",
      "source": [
        "data.describe()"
      ],
      "metadata": {
        "id": "YXPnPxXdxujG"
      },
      "execution_count": null,
      "outputs": []
    },
    {
      "cell_type": "code",
      "source": [
        "print(data.info)"
      ],
      "metadata": {
        "id": "sntWx_5bypYk"
      },
      "execution_count": null,
      "outputs": []
    },
    {
      "cell_type": "markdown",
      "source": [
        "Data Cleaning"
      ],
      "metadata": {
        "id": "GLZm85J1zQyq"
      }
    },
    {
      "cell_type": "markdown",
      "source": [
        "data cleaning"
      ],
      "metadata": {
        "id": "HqERsAws3v8h"
      }
    },
    {
      "source": [
        "import pandas as pd\n",
        "import numpy as np\n",
        "from sklearn.impute import SimpleImputer\n",
        "data = pd.read_csv('auto-mpg.csv')\n",
        "data['horsepower'] = pd.to_numeric(data['horsepower'], errors='coerce')\n",
        "\n",
        "imputer = SimpleImputer(missing_values=np.nan, strategy='mean')\n",
        "\n",
        "horsepower_data = data['horsepower'].values.reshape(-1, 1)\n",
        "\n",
        "imputer.fit(horsepower_data)\n",
        "horsepower_data = imputer.transform(horsepower_data)\n",
        "data['horsepower'] = horsepower_data"
      ],
      "cell_type": "code",
      "metadata": {
        "id": "bKm-dUqf240V"
      },
      "execution_count": null,
      "outputs": []
    },
    {
      "cell_type": "code",
      "source": [
        "data.info()"
      ],
      "metadata": {
        "id": "xVllCq-y3Tj1"
      },
      "execution_count": null,
      "outputs": []
    },
    {
      "cell_type": "markdown",
      "source": [
        "Outlier detection"
      ],
      "metadata": {
        "id": "8KwQfZq93zKP"
      }
    },
    {
      "source": [
        "import pandas as pd\n",
        "import numpy as np\n",
        "from sklearn.ensemble import IsolationForest\n",
        "import matplotlib.pyplot as plt\n",
        "import seaborn as sns\n",
        "from sklearn.impute import SimpleImputer\n",
        "\n",
        "# Load your dataset (replace 'auto-mpg.csv' with your actual file)\n",
        "data = pd.read_csv('auto-mpg.csv')\n",
        "\n",
        "# Select numerical features for outlier detection\n",
        "numerical_features = ['mpg', 'cylinders', 'displacement', 'horsepower', 'weight', 'acceleration', 'model year']\n",
        "\n",
        "# Handle missing values (replace '?' with NaN and impute)\n",
        "data[numerical_features] = data[numerical_features].replace('?', np.nan)\n",
        "data[numerical_features] = data[numerical_features].astype(float)\n",
        "imputer = SimpleImputer(missing_values=np.nan, strategy='mean')\n",
        "data[numerical_features] = imputer.fit_transform(data[numerical_features])\n",
        "\n",
        "# --- Outlier Detection using Isolation Forest ---\n",
        "\n",
        "model_iso = IsolationForest(contamination=0.05)  # Adjust contamination as needed\n",
        "outliers_iso = model_iso.fit_predict(data[numerical_features])\n",
        "data['outlier_iso'] = outliers_iso\n",
        "\n",
        "# --- Visualization ---\n",
        "\n",
        "# Box plots for each feature\n",
        "plt.figure(figsize=(12, 6))\n",
        "for i, feature in enumerate(numerical_features):\n",
        "    plt.subplot(2, 4, i+1)\n",
        "    sns.boxplot(x=data[feature])\n",
        "    plt.title(feature)\n",
        "plt.tight_layout()\n",
        "plt.show()\n",
        "\n",
        "# Scatter plots for pairs of features (example)\n",
        "plt.scatter(data['horsepower'], data['mpg'], c=data['outlier_iso'], cmap='viridis')\n",
        "plt.xlabel('Horsepower')\n",
        "plt.ylabel('MPG')\n",
        "plt.title('Outliers detected by Isolation Forest')\n",
        "plt.colorbar()\n",
        "plt.show()\n",
        "\n",
        "# --- Print Outlier Indices ---\n",
        "\n",
        "print(\"Outliers detected by Isolation Forest:\")\n",
        "print(np.where(data['outlier_iso'] == -1)[0])"
      ],
      "cell_type": "code",
      "metadata": {
        "id": "oBdhDsRK6SQT"
      },
      "execution_count": null,
      "outputs": []
    }
  ]
}